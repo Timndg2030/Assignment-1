{
  "nbformat": 4,
  "nbformat_minor": 0,
  "metadata": {
    "colab": {
      "name": "Capstone Assignment WK3",
      "provenance": [],
      "authorship_tag": "ABX9TyNT2QU/WOWC42+cHDnyLCZH"
    },
    "kernelspec": {
      "name": "python3",
      "display_name": "Python 3"
    }
  },
  "cells": [
    {
      "cell_type": "markdown",
      "metadata": {
        "id": "GN09qjbxxIV1",
        "colab_type": "text"
      },
      "source": [
        "## Part 1 - Extract Data from Wikipedia "
      ]
    },
    {
      "cell_type": "code",
      "metadata": {
        "id": "sYURBvgAxHL4",
        "colab_type": "code",
        "colab": {}
      },
      "source": [
        "import pandas as pd\n",
        "import numpy as np\n",
        "import requests\n",
        "\n",
        "from bs4 import BeautifulSoup "
      ],
      "execution_count": 1,
      "outputs": []
    },
    {
      "cell_type": "code",
      "metadata": {
        "id": "zeOkpS4fyANe",
        "colab_type": "code",
        "colab": {}
      },
      "source": [
        "url = 'https://en.wikipedia.org/wiki/List_of_postal_codes_of_Canada:_M'"
      ],
      "execution_count": 2,
      "outputs": []
    },
    {
      "cell_type": "code",
      "metadata": {
        "id": "cyQqC8GH0Tab",
        "colab_type": "code",
        "colab": {}
      },
      "source": [
        "df = pd.read_html(url, header = 0) # Extracting the table and assigning headers"
      ],
      "execution_count": 3,
      "outputs": []
    },
    {
      "cell_type": "code",
      "metadata": {
        "id": "Y5ztjiVLQ5A-",
        "colab_type": "code",
        "colab": {}
      },
      "source": [
        "df2 = df[0] # slice to only use one of the tables"
      ],
      "execution_count": 4,
      "outputs": []
    },
    {
      "cell_type": "code",
      "metadata": {
        "id": "NI34qBnsTBUF",
        "colab_type": "code",
        "colab": {
          "base_uri": "https://localhost:8080/",
          "height": 300
        },
        "outputId": "fb0412c2-a7b7-4de1-d621-2036e4030b32"
      },
      "source": [
        "#droped all Not assigned \n",
        "df2= df2.drop(df2[df2.Borough == 'Not assigned'].index)\n",
        "df2.head(8)"
      ],
      "execution_count": 5,
      "outputs": [
        {
          "output_type": "execute_result",
          "data": {
            "text/html": [
              "<div>\n",
              "<style scoped>\n",
              "    .dataframe tbody tr th:only-of-type {\n",
              "        vertical-align: middle;\n",
              "    }\n",
              "\n",
              "    .dataframe tbody tr th {\n",
              "        vertical-align: top;\n",
              "    }\n",
              "\n",
              "    .dataframe thead th {\n",
              "        text-align: right;\n",
              "    }\n",
              "</style>\n",
              "<table border=\"1\" class=\"dataframe\">\n",
              "  <thead>\n",
              "    <tr style=\"text-align: right;\">\n",
              "      <th></th>\n",
              "      <th>Postal Code</th>\n",
              "      <th>Borough</th>\n",
              "      <th>Neighborhood</th>\n",
              "    </tr>\n",
              "  </thead>\n",
              "  <tbody>\n",
              "    <tr>\n",
              "      <th>2</th>\n",
              "      <td>M3A</td>\n",
              "      <td>North York</td>\n",
              "      <td>Parkwoods</td>\n",
              "    </tr>\n",
              "    <tr>\n",
              "      <th>3</th>\n",
              "      <td>M4A</td>\n",
              "      <td>North York</td>\n",
              "      <td>Victoria Village</td>\n",
              "    </tr>\n",
              "    <tr>\n",
              "      <th>4</th>\n",
              "      <td>M5A</td>\n",
              "      <td>Downtown Toronto</td>\n",
              "      <td>Regent Park, Harbourfront</td>\n",
              "    </tr>\n",
              "    <tr>\n",
              "      <th>5</th>\n",
              "      <td>M6A</td>\n",
              "      <td>North York</td>\n",
              "      <td>Lawrence Manor, Lawrence Heights</td>\n",
              "    </tr>\n",
              "    <tr>\n",
              "      <th>6</th>\n",
              "      <td>M7A</td>\n",
              "      <td>Downtown Toronto</td>\n",
              "      <td>Queen's Park, Ontario Provincial Government</td>\n",
              "    </tr>\n",
              "    <tr>\n",
              "      <th>8</th>\n",
              "      <td>M9A</td>\n",
              "      <td>Etobicoke</td>\n",
              "      <td>Islington Avenue, Humber Valley Village</td>\n",
              "    </tr>\n",
              "    <tr>\n",
              "      <th>9</th>\n",
              "      <td>M1B</td>\n",
              "      <td>Scarborough</td>\n",
              "      <td>Malvern, Rouge</td>\n",
              "    </tr>\n",
              "    <tr>\n",
              "      <th>11</th>\n",
              "      <td>M3B</td>\n",
              "      <td>North York</td>\n",
              "      <td>Don Mills</td>\n",
              "    </tr>\n",
              "  </tbody>\n",
              "</table>\n",
              "</div>"
            ],
            "text/plain": [
              "   Postal Code           Borough                                 Neighborhood\n",
              "2          M3A        North York                                    Parkwoods\n",
              "3          M4A        North York                             Victoria Village\n",
              "4          M5A  Downtown Toronto                    Regent Park, Harbourfront\n",
              "5          M6A        North York             Lawrence Manor, Lawrence Heights\n",
              "6          M7A  Downtown Toronto  Queen's Park, Ontario Provincial Government\n",
              "8          M9A         Etobicoke      Islington Avenue, Humber Valley Village\n",
              "9          M1B       Scarborough                               Malvern, Rouge\n",
              "11         M3B        North York                                    Don Mills"
            ]
          },
          "metadata": {
            "tags": []
          },
          "execution_count": 5
        }
      ]
    },
    {
      "cell_type": "code",
      "metadata": {
        "id": "gJq8lSYhWZMW",
        "colab_type": "code",
        "colab": {
          "base_uri": "https://localhost:8080/",
          "height": 34
        },
        "outputId": "8451690a-43ba-48c8-c2d6-7d95d77cb913"
      },
      "source": [
        "#Number of raws in the dataframe\n",
        "df2.shape"
      ],
      "execution_count": 6,
      "outputs": [
        {
          "output_type": "execute_result",
          "data": {
            "text/plain": [
              "(103, 3)"
            ]
          },
          "metadata": {
            "tags": []
          },
          "execution_count": 6
        }
      ]
    },
    {
      "cell_type": "code",
      "metadata": {
        "id": "XdkAfVNK-YMn",
        "colab_type": "code",
        "colab": {}
      },
      "source": [
        ""
      ],
      "execution_count": null,
      "outputs": []
    },
    {
      "cell_type": "markdown",
      "metadata": {
        "id": "JgEVtFaZ-Yrj",
        "colab_type": "text"
      },
      "source": [
        "## Part 2 - Merge with Acquired Geospacial Coordinates"
      ]
    },
    {
      "cell_type": "code",
      "metadata": {
        "id": "5iFoayjQvEov",
        "colab_type": "code",
        "colab": {}
      },
      "source": [
        "# Load the data in a dataframe, merge with initial data\n",
        "df_geo = pd.read_csv(\"Geospatial_Coordinates.csv\")"
      ],
      "execution_count": 7,
      "outputs": []
    },
    {
      "cell_type": "code",
      "metadata": {
        "id": "UyaoVSTNv1lJ",
        "colab_type": "code",
        "colab": {
          "base_uri": "https://localhost:8080/",
          "height": 300
        },
        "outputId": "ddf2be4e-1813-4a1f-b2f3-889a626149c1"
      },
      "source": [
        "df_merged = pd.merge(df2, df_geo, on=['Postal Code'])\n",
        "df_merged.head(8)"
      ],
      "execution_count": 39,
      "outputs": [
        {
          "output_type": "execute_result",
          "data": {
            "text/html": [
              "<div>\n",
              "<style scoped>\n",
              "    .dataframe tbody tr th:only-of-type {\n",
              "        vertical-align: middle;\n",
              "    }\n",
              "\n",
              "    .dataframe tbody tr th {\n",
              "        vertical-align: top;\n",
              "    }\n",
              "\n",
              "    .dataframe thead th {\n",
              "        text-align: right;\n",
              "    }\n",
              "</style>\n",
              "<table border=\"1\" class=\"dataframe\">\n",
              "  <thead>\n",
              "    <tr style=\"text-align: right;\">\n",
              "      <th></th>\n",
              "      <th>Postal Code</th>\n",
              "      <th>Borough</th>\n",
              "      <th>Neighborhood</th>\n",
              "      <th>Latitude</th>\n",
              "      <th>Longitude</th>\n",
              "    </tr>\n",
              "  </thead>\n",
              "  <tbody>\n",
              "    <tr>\n",
              "      <th>0</th>\n",
              "      <td>M3A</td>\n",
              "      <td>North York</td>\n",
              "      <td>Parkwoods</td>\n",
              "      <td>43.753259</td>\n",
              "      <td>-79.329656</td>\n",
              "    </tr>\n",
              "    <tr>\n",
              "      <th>1</th>\n",
              "      <td>M4A</td>\n",
              "      <td>North York</td>\n",
              "      <td>Victoria Village</td>\n",
              "      <td>43.725882</td>\n",
              "      <td>-79.315572</td>\n",
              "    </tr>\n",
              "    <tr>\n",
              "      <th>2</th>\n",
              "      <td>M5A</td>\n",
              "      <td>Downtown Toronto</td>\n",
              "      <td>Regent Park, Harbourfront</td>\n",
              "      <td>43.654260</td>\n",
              "      <td>-79.360636</td>\n",
              "    </tr>\n",
              "    <tr>\n",
              "      <th>3</th>\n",
              "      <td>M6A</td>\n",
              "      <td>North York</td>\n",
              "      <td>Lawrence Manor, Lawrence Heights</td>\n",
              "      <td>43.718518</td>\n",
              "      <td>-79.464763</td>\n",
              "    </tr>\n",
              "    <tr>\n",
              "      <th>4</th>\n",
              "      <td>M7A</td>\n",
              "      <td>Downtown Toronto</td>\n",
              "      <td>Queen's Park, Ontario Provincial Government</td>\n",
              "      <td>43.662301</td>\n",
              "      <td>-79.389494</td>\n",
              "    </tr>\n",
              "    <tr>\n",
              "      <th>5</th>\n",
              "      <td>M9A</td>\n",
              "      <td>Etobicoke</td>\n",
              "      <td>Islington Avenue, Humber Valley Village</td>\n",
              "      <td>43.667856</td>\n",
              "      <td>-79.532242</td>\n",
              "    </tr>\n",
              "    <tr>\n",
              "      <th>6</th>\n",
              "      <td>M1B</td>\n",
              "      <td>Scarborough</td>\n",
              "      <td>Malvern, Rouge</td>\n",
              "      <td>43.806686</td>\n",
              "      <td>-79.194353</td>\n",
              "    </tr>\n",
              "    <tr>\n",
              "      <th>7</th>\n",
              "      <td>M3B</td>\n",
              "      <td>North York</td>\n",
              "      <td>Don Mills</td>\n",
              "      <td>43.745906</td>\n",
              "      <td>-79.352188</td>\n",
              "    </tr>\n",
              "  </tbody>\n",
              "</table>\n",
              "</div>"
            ],
            "text/plain": [
              "  Postal Code           Borough  ...   Latitude  Longitude\n",
              "0         M3A        North York  ...  43.753259 -79.329656\n",
              "1         M4A        North York  ...  43.725882 -79.315572\n",
              "2         M5A  Downtown Toronto  ...  43.654260 -79.360636\n",
              "3         M6A        North York  ...  43.718518 -79.464763\n",
              "4         M7A  Downtown Toronto  ...  43.662301 -79.389494\n",
              "5         M9A         Etobicoke  ...  43.667856 -79.532242\n",
              "6         M1B       Scarborough  ...  43.806686 -79.194353\n",
              "7         M3B        North York  ...  43.745906 -79.352188\n",
              "\n",
              "[8 rows x 5 columns]"
            ]
          },
          "metadata": {
            "tags": []
          },
          "execution_count": 39
        }
      ]
    },
    {
      "cell_type": "markdown",
      "metadata": {
        "id": "0know3Kd-6Hs",
        "colab_type": "text"
      },
      "source": [
        "## Part 3 - Analyze, Cluster and Label Data"
      ]
    },
    {
      "cell_type": "code",
      "metadata": {
        "id": "xRKs5m_P_hFz",
        "colab_type": "code",
        "colab": {}
      },
      "source": [
        "import folium\n",
        "import json\n",
        "from sklearn.cluster import KMeans\n",
        "from geopy.geocoders import Nominatim"
      ],
      "execution_count": 20,
      "outputs": []
    },
    {
      "cell_type": "code",
      "metadata": {
        "id": "0usBpiESz8jQ",
        "colab_type": "code",
        "colab": {
          "base_uri": "https://localhost:8080/",
          "height": 206
        },
        "outputId": "cebd7240-bed6-4e7c-d2fa-b05a18e41103"
      },
      "source": [
        "# Begin by stripping out rows that don't contain the word \"Toronto\" in the Borough column\n",
        "df_tor = df_merged[df_merged.Borough.str.contains(\"Toronto\")].reset_index(drop=True)\n",
        "df_tor.head()"
      ],
      "execution_count": 11,
      "outputs": [
        {
          "output_type": "execute_result",
          "data": {
            "text/html": [
              "<div>\n",
              "<style scoped>\n",
              "    .dataframe tbody tr th:only-of-type {\n",
              "        vertical-align: middle;\n",
              "    }\n",
              "\n",
              "    .dataframe tbody tr th {\n",
              "        vertical-align: top;\n",
              "    }\n",
              "\n",
              "    .dataframe thead th {\n",
              "        text-align: right;\n",
              "    }\n",
              "</style>\n",
              "<table border=\"1\" class=\"dataframe\">\n",
              "  <thead>\n",
              "    <tr style=\"text-align: right;\">\n",
              "      <th></th>\n",
              "      <th>Postal Code</th>\n",
              "      <th>Borough</th>\n",
              "      <th>Neighborhood</th>\n",
              "      <th>Latitude</th>\n",
              "      <th>Longitude</th>\n",
              "    </tr>\n",
              "  </thead>\n",
              "  <tbody>\n",
              "    <tr>\n",
              "      <th>0</th>\n",
              "      <td>M5A</td>\n",
              "      <td>Downtown Toronto</td>\n",
              "      <td>Regent Park, Harbourfront</td>\n",
              "      <td>43.654260</td>\n",
              "      <td>-79.360636</td>\n",
              "    </tr>\n",
              "    <tr>\n",
              "      <th>1</th>\n",
              "      <td>M7A</td>\n",
              "      <td>Downtown Toronto</td>\n",
              "      <td>Queen's Park, Ontario Provincial Government</td>\n",
              "      <td>43.662301</td>\n",
              "      <td>-79.389494</td>\n",
              "    </tr>\n",
              "    <tr>\n",
              "      <th>2</th>\n",
              "      <td>M5B</td>\n",
              "      <td>Downtown Toronto</td>\n",
              "      <td>Garden District, Ryerson</td>\n",
              "      <td>43.657162</td>\n",
              "      <td>-79.378937</td>\n",
              "    </tr>\n",
              "    <tr>\n",
              "      <th>3</th>\n",
              "      <td>M5C</td>\n",
              "      <td>Downtown Toronto</td>\n",
              "      <td>St. James Town</td>\n",
              "      <td>43.651494</td>\n",
              "      <td>-79.375418</td>\n",
              "    </tr>\n",
              "    <tr>\n",
              "      <th>4</th>\n",
              "      <td>M4E</td>\n",
              "      <td>East Toronto</td>\n",
              "      <td>The Beaches</td>\n",
              "      <td>43.676357</td>\n",
              "      <td>-79.293031</td>\n",
              "    </tr>\n",
              "  </tbody>\n",
              "</table>\n",
              "</div>"
            ],
            "text/plain": [
              "  Postal Code           Borough  ...   Latitude  Longitude\n",
              "0         M5A  Downtown Toronto  ...  43.654260 -79.360636\n",
              "1         M7A  Downtown Toronto  ...  43.662301 -79.389494\n",
              "2         M5B  Downtown Toronto  ...  43.657162 -79.378937\n",
              "3         M5C  Downtown Toronto  ...  43.651494 -79.375418\n",
              "4         M4E      East Toronto  ...  43.676357 -79.293031\n",
              "\n",
              "[5 rows x 5 columns]"
            ]
          },
          "metadata": {
            "tags": []
          },
          "execution_count": 11
        }
      ]
    },
    {
      "cell_type": "code",
      "metadata": {
        "id": "yzjK6uqv8dUl",
        "colab_type": "code",
        "colab": {}
      },
      "source": [
        ""
      ],
      "execution_count": null,
      "outputs": []
    },
    {
      "cell_type": "code",
      "metadata": {
        "id": "6lStDkDvCJsQ",
        "colab_type": "code",
        "colab": {}
      },
      "source": [
        "CLIENT_ID = '32HAJRP313FHYC5QLOFPTQL33QZADAH5PAUEPCLMF4QLFCSY' # your Foursquare ID\n",
        "CLIENT_SECRET = 'EAYJPURSR1XBANJ2QUZSXZYSI0404MKCOUQ2MWPQY0IQDYV0' # your Foursquare Secret\n",
        "VERSION = '20180605' # Foursquare API version"
      ],
      "execution_count": 26,
      "outputs": []
    },
    {
      "cell_type": "code",
      "metadata": {
        "id": "mFbVd7Mc_oab",
        "colab_type": "code",
        "colab": {
          "base_uri": "https://localhost:8080/",
          "height": 34
        },
        "outputId": "043b5a3a-7ab1-4f92-a8ba-6e9013b3263d"
      },
      "source": [
        "# Get coordinates for Toronto\n",
        "address = 'Toronto, ON, Canada'\n",
        "\n",
        "geolocator = Nominatim(user_agent=\"tor_explorer\")\n",
        "location = geolocator.geocode(address)\n",
        "latitude = location.latitude\n",
        "longitude = location.longitude\n",
        "print('The geograpical coordinate of Toronto are {}, {}.'.format(latitude, longitude))"
      ],
      "execution_count": 27,
      "outputs": [
        {
          "output_type": "stream",
          "text": [
            "The geograpical coordinate of Toronto are 43.6534817, -79.3839347.\n"
          ],
          "name": "stdout"
        }
      ]
    },
    {
      "cell_type": "code",
      "metadata": {
        "id": "9G6-AprcAoSd",
        "colab_type": "code",
        "colab": {
          "base_uri": "https://localhost:8080/",
          "height": 968
        },
        "outputId": "81f86444-f794-4b36-a8e5-9ee561073ed8"
      },
      "source": [
        "# create map using latitude and longitude values\n",
        "map_tor = folium.Map(location=[latitude, longitude], zoom_start=12)\n",
        "\n",
        "# add markers to map\n",
        "for lat, lng, neighborhood in zip(df_tor['Latitude'], df_tor['Longitude'], df_tor['Neighborhood']):\n",
        "    label = neighborhood\n",
        "    label = folium.Popup(label, parse_html=True)\n",
        "    folium.CircleMarker(\n",
        "        [lat, lng],\n",
        "        radius=5,\n",
        "        popup=label,\n",
        "        color='blue',\n",
        "        fill=True,\n",
        "        fill_color='#3186cc',\n",
        "        fill_opacity=0.7,\n",
        "        parse_html=False).add_to(map_tor)  \n",
        "    \n",
        "map_tor"
      ],
      "execution_count": 41,
      "outputs": [
        {
          "output_type": "execute_result",
          "data": {
            "text/html": [
              "<div style=\"width:100%;\"><div style=\"position:relative;width:100%;height:0;padding-bottom:60%;\"><span style=\"color:#565656\">Make this Notebook Trusted to load map: File -> Trust Notebook</span><iframe src=\"about:blank\" style=\"position:absolute;width:100%;height:100%;left:0;top:0;border:none !important;\" data-html=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 onload=\"this.contentDocument.open();this.contentDocument.write(atob(this.getAttribute('data-html')));this.contentDocument.close();\" allowfullscreen webkitallowfullscreen mozallowfullscreen></iframe></div></div>"
            ],
            "text/plain": [
              "<folium.folium.Map at 0x7f3d65969cf8>"
            ]
          },
          "metadata": {
            "tags": []
          },
          "execution_count": 41
        }
      ]
    },
    {
      "cell_type": "code",
      "metadata": {
        "id": "0v6b9r2SBT74",
        "colab_type": "code",
        "colab": {
          "base_uri": "https://localhost:8080/",
          "height": 34
        },
        "outputId": "73d62fda-d85e-4663-b05b-7a46c1e9b64f"
      },
      "source": [
        "neighborhood_latitude = df_tor.loc[0, 'Latitude'] # neighborhood latitude value\n",
        "neighborhood_longitude = df_tor.loc[0, 'Longitude'] # neighborhood longitude value\n",
        "\n",
        "neighborhood_name = df_tor.loc[0, 'Neighborhood'] # neighborhood name\n",
        "\n",
        "print('Latitude and longitude values of {} are {}, {}.'.format(neighborhood_name, \n",
        "                                                               neighborhood_latitude, \n",
        "                                                               neighborhood_longitude))"
      ],
      "execution_count": 29,
      "outputs": [
        {
          "output_type": "stream",
          "text": [
            "Latitude and longitude values of Regent Park, Harbourfront are 43.6542599, -79.3606359.\n"
          ],
          "name": "stdout"
        }
      ]
    },
    {
      "cell_type": "code",
      "metadata": {
        "id": "rgdSQd9aBq_W",
        "colab_type": "code",
        "colab": {
          "base_uri": "https://localhost:8080/",
          "height": 417
        },
        "outputId": "1d1fe37c-6d42-4d2d-ef4c-1a664ec4be7e"
      },
      "source": [
        "# Requesting information of the Neighborhood\n",
        "radius = 500\n",
        "LIMIT = 100\n",
        "url = 'https://api.foursquare.com/v2/venues/search?client_id={}&client_secret={}&ll={},{}&v={}&radius={}&limit={}'.format(CLIENT_ID, CLIENT_SECRET, neighborhood_latitude, neighborhood_longitude, VERSION, radius, LIMIT)\n",
        "results = requests.get(url).json()\n",
        "venues1 = results['response']['venues']\n",
        "venues1 = pd.json_normalize(venues1)\n",
        "venues1. head()"
      ],
      "execution_count": 31,
      "outputs": [
        {
          "output_type": "execute_result",
          "data": {
            "text/html": [
              "<div>\n",
              "<style scoped>\n",
              "    .dataframe tbody tr th:only-of-type {\n",
              "        vertical-align: middle;\n",
              "    }\n",
              "\n",
              "    .dataframe tbody tr th {\n",
              "        vertical-align: top;\n",
              "    }\n",
              "\n",
              "    .dataframe thead th {\n",
              "        text-align: right;\n",
              "    }\n",
              "</style>\n",
              "<table border=\"1\" class=\"dataframe\">\n",
              "  <thead>\n",
              "    <tr style=\"text-align: right;\">\n",
              "      <th></th>\n",
              "      <th>id</th>\n",
              "      <th>name</th>\n",
              "      <th>categories</th>\n",
              "      <th>referralId</th>\n",
              "      <th>hasPerk</th>\n",
              "      <th>location.lat</th>\n",
              "      <th>location.lng</th>\n",
              "      <th>location.labeledLatLngs</th>\n",
              "      <th>location.distance</th>\n",
              "      <th>location.postalCode</th>\n",
              "      <th>location.cc</th>\n",
              "      <th>location.city</th>\n",
              "      <th>location.state</th>\n",
              "      <th>location.country</th>\n",
              "      <th>location.formattedAddress</th>\n",
              "      <th>location.address</th>\n",
              "      <th>location.crossStreet</th>\n",
              "      <th>venuePage.id</th>\n",
              "    </tr>\n",
              "  </thead>\n",
              "  <tbody>\n",
              "    <tr>\n",
              "      <th>0</th>\n",
              "      <td>5bdc6c2bba57b4002c4c71a8</td>\n",
              "      <td>Oldtown Bodega</td>\n",
              "      <td>[{'id': '4bf58dd8d48988d16d941735', 'name': 'C...</td>\n",
              "      <td>v-1594222311</td>\n",
              "      <td>False</td>\n",
              "      <td>43.653966</td>\n",
              "      <td>-79.360752</td>\n",
              "      <td>[{'label': 'display', 'lat': 43.653966, 'lng':...</td>\n",
              "      <td>34</td>\n",
              "      <td>M5A 1L6</td>\n",
              "      <td>CA</td>\n",
              "      <td>Toronto</td>\n",
              "      <td>ON</td>\n",
              "      <td>Canada</td>\n",
              "      <td>[Toronto ON M5A 1L6, Canada]</td>\n",
              "      <td>NaN</td>\n",
              "      <td>NaN</td>\n",
              "      <td>NaN</td>\n",
              "    </tr>\n",
              "    <tr>\n",
              "      <th>1</th>\n",
              "      <td>4bc70f5d14d7952126a066e9</td>\n",
              "      <td>Sackville Playground</td>\n",
              "      <td>[{'id': '4bf58dd8d48988d163941735', 'name': 'P...</td>\n",
              "      <td>v-1594222311</td>\n",
              "      <td>False</td>\n",
              "      <td>43.654656</td>\n",
              "      <td>-79.359871</td>\n",
              "      <td>[{'label': 'display', 'lat': 43.65465604258614...</td>\n",
              "      <td>75</td>\n",
              "      <td>NaN</td>\n",
              "      <td>CA</td>\n",
              "      <td>Toronto</td>\n",
              "      <td>ON</td>\n",
              "      <td>Canada</td>\n",
              "      <td>[420 king st E, Toronto ON, Canada]</td>\n",
              "      <td>420 king st E</td>\n",
              "      <td>NaN</td>\n",
              "      <td>NaN</td>\n",
              "    </tr>\n",
              "    <tr>\n",
              "      <th>2</th>\n",
              "      <td>53b8466a498e83df908c3f21</td>\n",
              "      <td>Tandem Coffee</td>\n",
              "      <td>[{'id': '4bf58dd8d48988d1e0931735', 'name': 'C...</td>\n",
              "      <td>v-1594222311</td>\n",
              "      <td>False</td>\n",
              "      <td>43.653559</td>\n",
              "      <td>-79.361809</td>\n",
              "      <td>[{'label': 'display', 'lat': 43.65355870959944...</td>\n",
              "      <td>122</td>\n",
              "      <td>NaN</td>\n",
              "      <td>CA</td>\n",
              "      <td>Toronto</td>\n",
              "      <td>ON</td>\n",
              "      <td>Canada</td>\n",
              "      <td>[368 King St E (at Trinity St), Toronto ON, Ca...</td>\n",
              "      <td>368 King St E</td>\n",
              "      <td>at Trinity St</td>\n",
              "      <td>NaN</td>\n",
              "    </tr>\n",
              "    <tr>\n",
              "      <th>3</th>\n",
              "      <td>4b0d4672f964a520854523e3</td>\n",
              "      <td>TTC Streetcar #504 King St</td>\n",
              "      <td>[{'id': '4f2a23984b9023bd5841ed2c', 'name': 'M...</td>\n",
              "      <td>v-1594222311</td>\n",
              "      <td>False</td>\n",
              "      <td>43.641273</td>\n",
              "      <td>-79.447163</td>\n",
              "      <td>[{'label': 'display', 'lat': 43.64127266669386...</td>\n",
              "      <td>7118</td>\n",
              "      <td>NaN</td>\n",
              "      <td>CA</td>\n",
              "      <td>Toronto</td>\n",
              "      <td>ON</td>\n",
              "      <td>Canada</td>\n",
              "      <td>[King St. (Moving Target!), Toronto ON, Canada]</td>\n",
              "      <td>King St.</td>\n",
              "      <td>Moving Target!</td>\n",
              "      <td>NaN</td>\n",
              "    </tr>\n",
              "    <tr>\n",
              "      <th>4</th>\n",
              "      <td>50760559e4b0e8c7babe2497</td>\n",
              "      <td>Body Blitz Spa East</td>\n",
              "      <td>[{'id': '4bf58dd8d48988d1ed941735', 'name': 'S...</td>\n",
              "      <td>v-1594222311</td>\n",
              "      <td>False</td>\n",
              "      <td>43.654735</td>\n",
              "      <td>-79.359874</td>\n",
              "      <td>[{'label': 'display', 'lat': 43.65473505045365...</td>\n",
              "      <td>80</td>\n",
              "      <td>M5A 1L9</td>\n",
              "      <td>CA</td>\n",
              "      <td>Toronto</td>\n",
              "      <td>ON</td>\n",
              "      <td>Canada</td>\n",
              "      <td>[497 King Street East (btwn Sackville St and S...</td>\n",
              "      <td>497 King Street East</td>\n",
              "      <td>btwn Sackville St and Sumach St</td>\n",
              "      <td>NaN</td>\n",
              "    </tr>\n",
              "  </tbody>\n",
              "</table>\n",
              "</div>"
            ],
            "text/plain": [
              "                         id  ... venuePage.id\n",
              "0  5bdc6c2bba57b4002c4c71a8  ...          NaN\n",
              "1  4bc70f5d14d7952126a066e9  ...          NaN\n",
              "2  53b8466a498e83df908c3f21  ...          NaN\n",
              "3  4b0d4672f964a520854523e3  ...          NaN\n",
              "4  50760559e4b0e8c7babe2497  ...          NaN\n",
              "\n",
              "[5 rows x 18 columns]"
            ]
          },
          "metadata": {
            "tags": []
          },
          "execution_count": 31
        }
      ]
    },
    {
      "cell_type": "code",
      "metadata": {
        "id": "BDQejoVRB77p",
        "colab_type": "code",
        "colab": {}
      },
      "source": [
        "# function that extracts the category of the venue from JSON\n",
        "def get_category_type(row):\n",
        "    try:\n",
        "        #print(row['categories'][0]['name'])\n",
        "        return row['categories'][0]['name']\n",
        "    except:\n",
        "        #print(\"Uncategorized\")\n",
        "        return \"Uncategorized\""
      ],
      "execution_count": 32,
      "outputs": []
    },
    {
      "cell_type": "code",
      "metadata": {
        "id": "re-FPpbqDl5j",
        "colab_type": "code",
        "colab": {
          "base_uri": "https://localhost:8080/",
          "height": 206
        },
        "outputId": "a5924f73-09de-457d-b5a6-b9591acdd1fb"
      },
      "source": [
        "# filter columns\n",
        "filtered_columns = ['name', 'categories', 'location.lat', 'location.lng']\n",
        "venues = venues1.loc[:, filtered_columns]\n",
        "\n",
        "# filter the category for each row\n",
        "venues['categories'] = venues.apply(get_category_type, axis=1)\n",
        "\n",
        "# clean columns\n",
        "#venues.columns = [col.split(\".\")[-1] for col in venues.columns]\n",
        "#venues = venues.dropna(how='any',axis=0)\n",
        "#venues.reset_index(drop=True, inplace=True)\n",
        "\n",
        "venues.head()"
      ],
      "execution_count": 33,
      "outputs": [
        {
          "output_type": "execute_result",
          "data": {
            "text/html": [
              "<div>\n",
              "<style scoped>\n",
              "    .dataframe tbody tr th:only-of-type {\n",
              "        vertical-align: middle;\n",
              "    }\n",
              "\n",
              "    .dataframe tbody tr th {\n",
              "        vertical-align: top;\n",
              "    }\n",
              "\n",
              "    .dataframe thead th {\n",
              "        text-align: right;\n",
              "    }\n",
              "</style>\n",
              "<table border=\"1\" class=\"dataframe\">\n",
              "  <thead>\n",
              "    <tr style=\"text-align: right;\">\n",
              "      <th></th>\n",
              "      <th>name</th>\n",
              "      <th>categories</th>\n",
              "      <th>location.lat</th>\n",
              "      <th>location.lng</th>\n",
              "    </tr>\n",
              "  </thead>\n",
              "  <tbody>\n",
              "    <tr>\n",
              "      <th>0</th>\n",
              "      <td>Oldtown Bodega</td>\n",
              "      <td>Café</td>\n",
              "      <td>43.653966</td>\n",
              "      <td>-79.360752</td>\n",
              "    </tr>\n",
              "    <tr>\n",
              "      <th>1</th>\n",
              "      <td>Sackville Playground</td>\n",
              "      <td>Park</td>\n",
              "      <td>43.654656</td>\n",
              "      <td>-79.359871</td>\n",
              "    </tr>\n",
              "    <tr>\n",
              "      <th>2</th>\n",
              "      <td>Tandem Coffee</td>\n",
              "      <td>Coffee Shop</td>\n",
              "      <td>43.653559</td>\n",
              "      <td>-79.361809</td>\n",
              "    </tr>\n",
              "    <tr>\n",
              "      <th>3</th>\n",
              "      <td>TTC Streetcar #504 King St</td>\n",
              "      <td>Moving Target</td>\n",
              "      <td>43.641273</td>\n",
              "      <td>-79.447163</td>\n",
              "    </tr>\n",
              "    <tr>\n",
              "      <th>4</th>\n",
              "      <td>Body Blitz Spa East</td>\n",
              "      <td>Spa</td>\n",
              "      <td>43.654735</td>\n",
              "      <td>-79.359874</td>\n",
              "    </tr>\n",
              "  </tbody>\n",
              "</table>\n",
              "</div>"
            ],
            "text/plain": [
              "                         name     categories  location.lat  location.lng\n",
              "0              Oldtown Bodega           Café     43.653966    -79.360752\n",
              "1        Sackville Playground           Park     43.654656    -79.359871\n",
              "2               Tandem Coffee    Coffee Shop     43.653559    -79.361809\n",
              "3  TTC Streetcar #504 King St  Moving Target     43.641273    -79.447163\n",
              "4         Body Blitz Spa East            Spa     43.654735    -79.359874"
            ]
          },
          "metadata": {
            "tags": []
          },
          "execution_count": 33
        }
      ]
    },
    {
      "cell_type": "code",
      "metadata": {
        "id": "-isp50XbDyah",
        "colab_type": "code",
        "colab": {
          "base_uri": "https://localhost:8080/",
          "height": 424
        },
        "outputId": "4fd0dd37-3dae-40d7-df41-14c564733c4c"
      },
      "source": [
        "# filter columns\n",
        "filtered_columns = ['name', 'categories', 'location.lat', 'location.lng']\n",
        "venues = venues1.loc[:, filtered_columns]\n",
        "\n",
        "# filter the category for each row\n",
        "venues['categories'] = venues.apply(get_category_type, axis=1)\n",
        "\n",
        "# clean columns\n",
        "#venues.columns = [col.split(\".\")[-1] for col in venues.columns]\n",
        "#venues = venues.dropna(how='any',axis=0)\n",
        "#venues.reset_index(drop=True, inplace=True)\n",
        "\n",
        "venues"
      ],
      "execution_count": 43,
      "outputs": [
        {
          "output_type": "execute_result",
          "data": {
            "text/html": [
              "<div>\n",
              "<style scoped>\n",
              "    .dataframe tbody tr th:only-of-type {\n",
              "        vertical-align: middle;\n",
              "    }\n",
              "\n",
              "    .dataframe tbody tr th {\n",
              "        vertical-align: top;\n",
              "    }\n",
              "\n",
              "    .dataframe thead th {\n",
              "        text-align: right;\n",
              "    }\n",
              "</style>\n",
              "<table border=\"1\" class=\"dataframe\">\n",
              "  <thead>\n",
              "    <tr style=\"text-align: right;\">\n",
              "      <th></th>\n",
              "      <th>name</th>\n",
              "      <th>categories</th>\n",
              "      <th>location.lat</th>\n",
              "      <th>location.lng</th>\n",
              "    </tr>\n",
              "  </thead>\n",
              "  <tbody>\n",
              "    <tr>\n",
              "      <th>0</th>\n",
              "      <td>Oldtown Bodega</td>\n",
              "      <td>Café</td>\n",
              "      <td>43.653966</td>\n",
              "      <td>-79.360752</td>\n",
              "    </tr>\n",
              "    <tr>\n",
              "      <th>1</th>\n",
              "      <td>Sackville Playground</td>\n",
              "      <td>Park</td>\n",
              "      <td>43.654656</td>\n",
              "      <td>-79.359871</td>\n",
              "    </tr>\n",
              "    <tr>\n",
              "      <th>2</th>\n",
              "      <td>Tandem Coffee</td>\n",
              "      <td>Coffee Shop</td>\n",
              "      <td>43.653559</td>\n",
              "      <td>-79.361809</td>\n",
              "    </tr>\n",
              "    <tr>\n",
              "      <th>3</th>\n",
              "      <td>TTC Streetcar #504 King St</td>\n",
              "      <td>Moving Target</td>\n",
              "      <td>43.641273</td>\n",
              "      <td>-79.447163</td>\n",
              "    </tr>\n",
              "    <tr>\n",
              "      <th>4</th>\n",
              "      <td>Body Blitz Spa East</td>\n",
              "      <td>Spa</td>\n",
              "      <td>43.654735</td>\n",
              "      <td>-79.359874</td>\n",
              "    </tr>\n",
              "    <tr>\n",
              "      <th>...</th>\n",
              "      <td>...</td>\n",
              "      <td>...</td>\n",
              "      <td>...</td>\n",
              "      <td>...</td>\n",
              "    </tr>\n",
              "    <tr>\n",
              "      <th>95</th>\n",
              "      <td>T4G Limited - Toronto</td>\n",
              "      <td>Office</td>\n",
              "      <td>43.658367</td>\n",
              "      <td>-79.349778</td>\n",
              "    </tr>\n",
              "    <tr>\n",
              "      <th>96</th>\n",
              "      <td>Absolute Location Services</td>\n",
              "      <td>Office</td>\n",
              "      <td>43.654415</td>\n",
              "      <td>-79.355260</td>\n",
              "    </tr>\n",
              "    <tr>\n",
              "      <th>97</th>\n",
              "      <td>The Corktown Kitchen</td>\n",
              "      <td>Gastropub</td>\n",
              "      <td>43.653316</td>\n",
              "      <td>-79.362140</td>\n",
              "    </tr>\n",
              "    <tr>\n",
              "      <th>98</th>\n",
              "      <td>Worldwide Quest</td>\n",
              "      <td>General Travel</td>\n",
              "      <td>43.654659</td>\n",
              "      <td>-79.359830</td>\n",
              "    </tr>\n",
              "    <tr>\n",
              "      <th>99</th>\n",
              "      <td>Inglenook Community School</td>\n",
              "      <td>High School</td>\n",
              "      <td>43.653903</td>\n",
              "      <td>-79.359429</td>\n",
              "    </tr>\n",
              "  </tbody>\n",
              "</table>\n",
              "<p>100 rows × 4 columns</p>\n",
              "</div>"
            ],
            "text/plain": [
              "                          name      categories  location.lat  location.lng\n",
              "0               Oldtown Bodega            Café     43.653966    -79.360752\n",
              "1         Sackville Playground            Park     43.654656    -79.359871\n",
              "2                Tandem Coffee     Coffee Shop     43.653559    -79.361809\n",
              "3   TTC Streetcar #504 King St   Moving Target     43.641273    -79.447163\n",
              "4          Body Blitz Spa East             Spa     43.654735    -79.359874\n",
              "..                         ...             ...           ...           ...\n",
              "95       T4G Limited - Toronto          Office     43.658367    -79.349778\n",
              "96  Absolute Location Services          Office     43.654415    -79.355260\n",
              "97        The Corktown Kitchen       Gastropub     43.653316    -79.362140\n",
              "98             Worldwide Quest  General Travel     43.654659    -79.359830\n",
              "99  Inglenook Community School     High School     43.653903    -79.359429\n",
              "\n",
              "[100 rows x 4 columns]"
            ]
          },
          "metadata": {
            "tags": []
          },
          "execution_count": 43
        }
      ]
    },
    {
      "cell_type": "code",
      "metadata": {
        "id": "SRTRzJ9OEBmX",
        "colab_type": "code",
        "colab": {}
      },
      "source": [
        ""
      ],
      "execution_count": null,
      "outputs": []
    },
    {
      "cell_type": "code",
      "metadata": {
        "id": "TWFmN3EIEIjX",
        "colab_type": "code",
        "colab": {}
      },
      "source": [
        ""
      ],
      "execution_count": null,
      "outputs": []
    }
  ]
}